{
 "cells": [
  {
   "cell_type": "code",
   "execution_count": 103,
   "id": "d6928bab",
   "metadata": {},
   "outputs": [],
   "source": [
    "import pandas as pd\n",
    "import seaborn as sns\n",
    "import matplotlib.pyplot as plt\n",
    "\n",
    "import statsmodels.api as sm\n",
    "\n",
    "from sklearn.preprocessing import MinMaxScaler, StandardScaler\n",
    "from sklearn.model_selection import train_test_split\n",
    "from sklearn.pipeline import make_pipeline, Pipeline\n",
    "from sklearn.metrics import confusion_matrix, classification_report\n",
    "from sklearn.compose import ColumnTransformer\n",
    "\n",
    "from sklearn.linear_model import LogisticRegression\n",
    "from sklearn.neighbors import KNeighborsClassifier\n",
    "from sklearn.ensemble import RandomForestClassifier\n",
    "from xgboost import XGBClassifier"
   ]
  },
  {
   "cell_type": "markdown",
   "id": "7887fafc",
   "metadata": {},
   "source": [
    "# Train"
   ]
  },
  {
   "cell_type": "code",
   "execution_count": 104,
   "id": "a85d5e2b",
   "metadata": {},
   "outputs": [],
   "source": [
    "train = pd.read_csv(\"./train_data_withlabels.csv\")\n",
    "train = train.iloc[:, 1:]\n",
    "\n",
    "# change type from string to datetime object\n",
    "train.localminute = pd.to_datetime(train.localminute)\n",
    "\n",
    "# create new columns\n",
    "train['month'] = train.localminute.dt.month\n",
    "train['date'] = train.localminute.dt.day\n",
    "train['weekday'] = train.localminute.dt.weekday\n",
    "train['hour'] = train.localminute.dt.hour\n",
    "train['minute'] = train.localminute.dt.minute\n",
    "\n",
    "# remove localminute column\n",
    "train = train.iloc[:, 1:]\n",
    "\n",
    "# move target column just for ease\n",
    "target = train.pop('target')\n",
    "train['target'] = target\n",
    "\n",
    "# get column names\n",
    "col_names = train.columns.to_list()\n",
    "\n",
    "target = train.target\n",
    "feature_a = train.iloc[:,0:7].columns.to_list()\n",
    "feature_b = train.iloc[:,7:-1].columns.to_list()\n",
    "normal_standard = ColumnTransformer([('standardscaler', StandardScaler(), feature_a)], \n",
    "                                    remainder='passthrough')\n",
    "normal_minmax = ColumnTransformer([('minmaxscaler', MinMaxScaler(), feature_b)], \n",
    "                                  remainder='passthrough')\n",
    "\n",
    "# use sklearn to normalize data\n",
    "#pipe_me = Pipeline([(\"standard\", normal_standard), (\"minmax\", normal_minmax)]).fit(train.drop('target', axis = 1))\n",
    "train_normal = pd.DataFrame(normal_standard.fit_transform(train))\n",
    "# rename columns\n",
    "train_normal.columns = col_names\n",
    "# do the rest\n",
    "train_normal = pd.DataFrame(normal_minmax.fit_transform(train_normal))\n",
    "\n",
    "# rename columns\n",
    "train_normal.columns = feature_b + feature_a + [\"target\"]"
   ]
  },
  {
   "cell_type": "code",
   "execution_count": 121,
   "id": "53b8c7b8",
   "metadata": {},
   "outputs": [
    {
     "name": "stdout",
     "output_type": "stream",
     "text": [
      "                                 OLS Regression Results                                \n",
      "=======================================================================================\n",
      "Dep. Variable:                 target   R-squared (uncentered):                   0.420\n",
      "Model:                            OLS   Adj. R-squared (uncentered):              0.420\n",
      "Method:                 Least Squares   F-statistic:                          2.491e+04\n",
      "Date:                Tue, 07 Jun 2022   Prob (F-statistic):                        0.00\n",
      "Time:                        15:30:31   Log-Likelihood:                      1.1694e+05\n",
      "No. Observations:              377828   AIC:                                 -2.339e+05\n",
      "Df Residuals:                  377817   BIC:                                 -2.337e+05\n",
      "Df Model:                          11                                                  \n",
      "Covariance Type:            nonrobust                                                  \n",
      "=========================================================================================\n",
      "                            coef    std err          t      P>|t|      [0.025      0.975]\n",
      "-----------------------------------------------------------------------------------------\n",
      "date                      0.0403      0.001     45.940      0.000       0.039       0.042\n",
      "weekday                   0.0320      0.001     40.751      0.000       0.030       0.033\n",
      "hour                     -0.0158      0.001    -18.065      0.000      -0.018      -0.014\n",
      "minute                    0.0398      0.001     46.431      0.000       0.038       0.041\n",
      "total_load                0.0900      0.000    214.528      0.000       0.089       0.091\n",
      "ab_diff                  -0.0046      0.000    -12.296      0.000      -0.005      -0.004\n",
      "re_diff                   0.0077      0.000     26.730      0.000       0.007       0.008\n",
      "window_mean               0.0823      0.001    141.009      0.000       0.081       0.083\n",
      "window_dev               -0.0011      0.001     -1.615      0.106      -0.002       0.000\n",
      "window_crossing_point    -0.0363      0.000   -122.803      0.000      -0.037      -0.036\n",
      "window_peak              -0.0232      0.001    -31.061      0.000      -0.025      -0.022\n",
      "==============================================================================\n",
      "Omnibus:                   133023.771   Durbin-Watson:                   2.001\n",
      "Prob(Omnibus):                  0.000   Jarque-Bera (JB):           724464.830\n",
      "Skew:                           1.608   Prob(JB):                         0.00\n",
      "Kurtosis:                       8.973   Cond. No.                         6.58\n",
      "==============================================================================\n",
      "\n",
      "Notes:\n",
      "[1] R² is computed without centering (uncentered) since the model does not contain a constant.\n",
      "[2] Standard Errors assume that the covariance matrix of the errors is correctly specified.\n"
     ]
    }
   ],
   "source": [
    "train_f = train_normal.drop('month', axis = 1)\n",
    "\n",
    "# convert dates to categorical\n",
    "train_f['date'] = train_f['date'].astype('category')\n",
    "train_f['weekday'] = train_f['weekday'].astype('category')\n",
    "train_f['hour'] = train_f['hour'].astype('category')\n",
    "train_f['minute'] = train_f['minute'].astype('category')\n",
    "\n",
    "targ = train_f.target\n",
    "train_f = train_f.drop('target', axis = 1)\n",
    "train_f['target'] = targ\n",
    "\n",
    "# dummies\n",
    "#train_f = pd.get_dummies(train_f) \n",
    "\n",
    "# split to train and validation\n",
    "validation_x, train_x = train_test_split(train_f, test_size = 0.9, train_size = 0.1)\n",
    "\n",
    "# separate x and y\n",
    "train_y = train_x.target\n",
    "train_x = train_x.drop('target', axis = 1)\n",
    "\n",
    "validation_y = validation_x.target\n",
    "validation_x = validation_x.drop('target', axis = 1)\n",
    "\n",
    "#fit linear regression model\n",
    "model = sm.OLS(train_y, train_x).fit()\n",
    "\n",
    "#view model summary\n",
    "print(model.summary())"
   ]
  },
  {
   "cell_type": "code",
   "execution_count": 122,
   "id": "fe39ecfa",
   "metadata": {},
   "outputs": [
    {
     "name": "stdout",
     "output_type": "stream",
     "text": [
      "              precision    recall  f1-score   support\n",
      "\n",
      "         0.0       0.98      0.99      0.99    357278\n",
      "         1.0       0.82      0.71      0.76     20550\n",
      "\n",
      "    accuracy                           0.98    377828\n",
      "   macro avg       0.90      0.85      0.87    377828\n",
      "weighted avg       0.97      0.98      0.98    377828\n",
      "\n",
      "              precision    recall  f1-score   support\n",
      "\n",
      "         0.0       0.98      0.99      0.99     39688\n",
      "         1.0       0.84      0.73      0.78      2292\n",
      "\n",
      "    accuracy                           0.98     41980\n",
      "   macro avg       0.91      0.86      0.88     41980\n",
      "weighted avg       0.98      0.98      0.98     41980\n",
      "\n"
     ]
    }
   ],
   "source": [
    "lr_model = LogisticRegression(max_iter=1000).fit(train_x, train_y)\n",
    "\n",
    "val_y = lr_model.predict(validation_x)\n",
    "pred_y = lr_model.predict(train_x)\n",
    "\n",
    "print(classification_report(train_y, pred_y))\n",
    "print(classification_report(validation_y, val_y))"
   ]
  },
  {
   "cell_type": "code",
   "execution_count": 45,
   "id": "c1126166",
   "metadata": {},
   "outputs": [
    {
     "name": "stdout",
     "output_type": "stream",
     "text": [
      "30  done!\n",
      "31  done!\n",
      "32  done!\n",
      "33  done!\n",
      "34  done!\n",
      "35  done!\n",
      "36  done!\n",
      "37  done!\n",
      "38  done!\n",
      "39  done!\n",
      "40  done!\n",
      "41  done!\n",
      "42  done!\n",
      "43  done!\n",
      "44  done!\n",
      "45  done!\n",
      "46  done!\n",
      "47  done!\n",
      "48  done!\n",
      "49  done!\n",
      "50  done!\n",
      "Done!\n"
     ]
    }
   ],
   "source": [
    "d_max = 50\n",
    "\n",
    "#df = pd.DataFrame({\"N\" : list(range(1, d_max+1)), \"acc_t\" : 0*d_max, \"acc_v\" : 0*d_max})\n",
    "\n",
    "for d in range(30 , d_max+1):\n",
    "    \n",
    "    df.loc[d-1] = [d, 0, 0]\n",
    "    \n",
    "    # train model\n",
    "    rf_model = RandomForestClassifier(max_depth = d, random_state=0).fit(train_x, train_y)\n",
    "    pred_y = rf_model.predict(train_x) # change var here\n",
    "    val_y = rf_model.predict(validation_x) # change var here\n",
    "    \n",
    "    # get accuracy for train prediction\n",
    "    tn, fp, fn, tp = confusion_matrix(train_y, pred_y).ravel()\n",
    "    acc_t = (tn + tp) / (tn + fp + tp +fn)\n",
    "    df.iloc[d-1, 1] = acc_t\n",
    "    \n",
    "    # get accuracy for validation prediction\n",
    "    tn, fp, fn, tp = confusion_matrix(validation_y, val_y).ravel()\n",
    "    acc_v = (tn + tp) / (tn + fp + tp + fn)\n",
    "    df.iloc[d-1, 2] = acc_v\n",
    "    \n",
    "    print(d, \" done!\")\n",
    "    \n",
    "print(\"Done!\")"
   ]
  },
  {
   "cell_type": "code",
   "execution_count": 106,
   "id": "71081f84",
   "metadata": {},
   "outputs": [
    {
     "name": "stdout",
     "output_type": "stream",
     "text": [
      "100  done!\n",
      "200  done!\n",
      "300  done!\n",
      "400  done!\n",
      "500  done!\n",
      "600  done!\n",
      "700  done!\n",
      "800  done!\n",
      "900  done!\n",
      "1000  done!\n",
      "2000  done!\n",
      "Done!\n"
     ]
    }
   ],
   "source": [
    "x_max = [100,200,300,400,500,600,700,800,900,1000,2000]\n",
    "\n",
    "df = pd.DataFrame({\"N\" : x_max, \"acc_t\" : 0*len(x_max), \"acc_v\" : 0*len(x_max)})\n",
    "\n",
    "for d in range(1 , len(x_max)+1):\n",
    "    \n",
    "    x = x_max[d-1]\n",
    "    \n",
    "    df.loc[d-1] = [d, 0, 0]\n",
    "    \n",
    "    # train model\n",
    "    xg_model = xgb.XGBClassifier(learning_rate = 0.05, max_depth = 35, reg_lambda = 10, n_estimators = x).fit(train_x,train_y)\n",
    "\n",
    "    pred_y = xg_model.predict(train_x) # change var here\n",
    "    val_y = xg_model.predict(validation_x) # change var here\n",
    "    \n",
    "    # get accuracy for train prediction\n",
    "    tn, fp, fn, tp = confusion_matrix(train_y, pred_y).ravel()\n",
    "    acc_t = (tn + tp) / (tn + fp + tp +fn)\n",
    "    df.iloc[d-1, 1] = acc_t\n",
    "    \n",
    "    # get accuracy for validation prediction\n",
    "    tn, fp, fn, tp = confusion_matrix(validation_y, val_y).ravel()\n",
    "    acc_v = (tn + tp) / (tn + fp + tp + fn)\n",
    "    df.iloc[d-1, 2] = acc_v\n",
    "    \n",
    "    print(x, \" done!\")\n",
    "    \n",
    "print(\"Done!\")"
   ]
  },
  {
   "cell_type": "code",
   "execution_count": 116,
   "id": "bea3b9c7",
   "metadata": {},
   "outputs": [],
   "source": [
    "df.iloc[:,0] = x_max"
   ]
  },
  {
   "cell_type": "code",
   "execution_count": 117,
   "id": "9fb82d54",
   "metadata": {},
   "outputs": [
    {
     "data": {
      "text/html": [
       "<div>\n",
       "<style scoped>\n",
       "    .dataframe tbody tr th:only-of-type {\n",
       "        vertical-align: middle;\n",
       "    }\n",
       "\n",
       "    .dataframe tbody tr th {\n",
       "        vertical-align: top;\n",
       "    }\n",
       "\n",
       "    .dataframe thead th {\n",
       "        text-align: right;\n",
       "    }\n",
       "</style>\n",
       "<table border=\"1\" class=\"dataframe\">\n",
       "  <thead>\n",
       "    <tr style=\"text-align: right;\">\n",
       "      <th></th>\n",
       "      <th>N</th>\n",
       "      <th>acc_t</th>\n",
       "      <th>acc_v</th>\n",
       "    </tr>\n",
       "  </thead>\n",
       "  <tbody>\n",
       "    <tr>\n",
       "      <th>0</th>\n",
       "      <td>100</td>\n",
       "      <td>0.999037</td>\n",
       "      <td>0.996808</td>\n",
       "    </tr>\n",
       "    <tr>\n",
       "      <th>1</th>\n",
       "      <td>200</td>\n",
       "      <td>0.999794</td>\n",
       "      <td>0.997808</td>\n",
       "    </tr>\n",
       "    <tr>\n",
       "      <th>2</th>\n",
       "      <td>300</td>\n",
       "      <td>0.999934</td>\n",
       "      <td>0.997999</td>\n",
       "    </tr>\n",
       "    <tr>\n",
       "      <th>3</th>\n",
       "      <td>400</td>\n",
       "      <td>0.999976</td>\n",
       "      <td>0.998166</td>\n",
       "    </tr>\n",
       "    <tr>\n",
       "      <th>4</th>\n",
       "      <td>500</td>\n",
       "      <td>0.999989</td>\n",
       "      <td>0.998166</td>\n",
       "    </tr>\n",
       "    <tr>\n",
       "      <th>5</th>\n",
       "      <td>600</td>\n",
       "      <td>0.999995</td>\n",
       "      <td>0.998213</td>\n",
       "    </tr>\n",
       "    <tr>\n",
       "      <th>6</th>\n",
       "      <td>700</td>\n",
       "      <td>0.999997</td>\n",
       "      <td>0.998285</td>\n",
       "    </tr>\n",
       "    <tr>\n",
       "      <th>7</th>\n",
       "      <td>800</td>\n",
       "      <td>0.999997</td>\n",
       "      <td>0.998333</td>\n",
       "    </tr>\n",
       "    <tr>\n",
       "      <th>8</th>\n",
       "      <td>900</td>\n",
       "      <td>1.000000</td>\n",
       "      <td>0.998333</td>\n",
       "    </tr>\n",
       "    <tr>\n",
       "      <th>9</th>\n",
       "      <td>1000</td>\n",
       "      <td>1.000000</td>\n",
       "      <td>0.998309</td>\n",
       "    </tr>\n",
       "    <tr>\n",
       "      <th>10</th>\n",
       "      <td>2000</td>\n",
       "      <td>1.000000</td>\n",
       "      <td>0.998285</td>\n",
       "    </tr>\n",
       "  </tbody>\n",
       "</table>\n",
       "</div>"
      ],
      "text/plain": [
       "       N     acc_t     acc_v\n",
       "0    100  0.999037  0.996808\n",
       "1    200  0.999794  0.997808\n",
       "2    300  0.999934  0.997999\n",
       "3    400  0.999976  0.998166\n",
       "4    500  0.999989  0.998166\n",
       "5    600  0.999995  0.998213\n",
       "6    700  0.999997  0.998285\n",
       "7    800  0.999997  0.998333\n",
       "8    900  1.000000  0.998333\n",
       "9   1000  1.000000  0.998309\n",
       "10  2000  1.000000  0.998285"
      ]
     },
     "execution_count": 117,
     "metadata": {},
     "output_type": "execute_result"
    }
   ],
   "source": [
    "df"
   ]
  },
  {
   "cell_type": "code",
   "execution_count": 118,
   "id": "8254cd3a",
   "metadata": {},
   "outputs": [
    {
     "data": {
      "text/plain": [
       "<matplotlib.legend.Legend at 0x7fd9893260d0>"
      ]
     },
     "execution_count": 118,
     "metadata": {},
     "output_type": "execute_result"
    },
    {
     "data": {
      "image/png": "[encoded data removed]",
      "text/plain": [
       "<Figure size 1440x504 with 1 Axes>"
      ]
     },
     "metadata": {},
     "output_type": "display_data"
    }
   ],
   "source": [
    "fig = plt.figure(figsize =(20, 7))\n",
    "ax = fig.add_subplot(111)\n",
    "\n",
    "ax.plot(df.N, df.acc_t, label = \"train\")\n",
    "ax.plot(df.N, df.acc_v, label = \"validation\")\n",
    "ax.legend()"
   ]
  },
  {
   "cell_type": "code",
   "execution_count": 124,
   "id": "accb6e04",
   "metadata": {},
   "outputs": [],
   "source": []
  },
  {
   "cell_type": "code",
   "execution_count": 99,
   "id": "231b1635",
   "metadata": {},
   "outputs": [],
   "source": []
  },
  {
   "cell_type": "code",
   "execution_count": 38,
   "id": "06fa6a81",
   "metadata": {},
   "outputs": [
    {
     "name": "stdout",
     "output_type": "stream",
     "text": [
      "              precision    recall  f1-score   support\n",
      "\n",
      "         0.0       1.00      1.00      1.00    357344\n",
      "         1.0       1.00      0.99      1.00     20484\n",
      "\n",
      "    accuracy                           1.00    377828\n",
      "   macro avg       1.00      1.00      1.00    377828\n",
      "weighted avg       1.00      1.00      1.00    377828\n",
      "\n",
      "              precision    recall  f1-score   support\n",
      "\n",
      "         0.0       1.00      1.00      1.00     39622\n",
      "         1.0       0.98      0.97      0.98      2358\n",
      "\n",
      "    accuracy                           1.00     41980\n",
      "   macro avg       0.99      0.99      0.99     41980\n",
      "weighted avg       1.00      1.00      1.00     41980\n",
      "\n"
     ]
    }
   ],
   "source": [
    "xg_data = xgb.DMatrix(train_x,train_y)\n",
    "\n",
    "xg_model = xgb.XGBClassifier(learning_rate = 0.5, max_depth = 30, alpha = 10).fit(train_x,train_y)\n",
    "\n",
    "val_y = xg_model.predict(validation_x)\n",
    "pred_y = xg_model.predict(train_x)\n",
    "\n",
    "print(classification_report(train_y, pred_y))\n",
    "print(classification_report(validation_y, val_y))"
   ]
  },
  {
   "cell_type": "code",
   "execution_count": 37,
   "id": "4b9819a3",
   "metadata": {},
   "outputs": [],
   "source": [
    "? XGBClassifier"
   ]
  },
  {
   "cell_type": "markdown",
   "id": "13fce893",
   "metadata": {},
   "source": [
    "# Correlation"
   ]
  },
  {
   "cell_type": "code",
   "execution_count": 5,
   "id": "2bedf10b",
   "metadata": {},
   "outputs": [
    {
     "data": {
      "text/plain": [
       "<AxesSubplot:>"
      ]
     },
     "execution_count": 5,
     "metadata": {},
     "output_type": "execute_result"
    },
    {
     "data": {
      "image/png": "[encoded data removed]",
      "text/plain": [
       "<Figure size 864x648 with 2 Axes>"
      ]
     },
     "metadata": {},
     "output_type": "display_data"
    }
   ],
   "source": [
    "c = train_normal.corr()\n",
    "\n",
    "sns.set(rc={'figure.figsize':(12,9)})\n",
    "\n",
    "sns.heatmap(c, cmap=\"Blues\", annot=True)"
   ]
  },
  {
   "cell_type": "code",
   "execution_count": 6,
   "id": "ae47cb00",
   "metadata": {},
   "outputs": [
    {
     "data": {
      "text/html": [
       "<div>\n",
       "<style scoped>\n",
       "    .dataframe tbody tr th:only-of-type {\n",
       "        vertical-align: middle;\n",
       "    }\n",
       "\n",
       "    .dataframe tbody tr th {\n",
       "        vertical-align: top;\n",
       "    }\n",
       "\n",
       "    .dataframe thead th {\n",
       "        text-align: right;\n",
       "    }\n",
       "</style>\n",
       "<table border=\"1\" class=\"dataframe\">\n",
       "  <thead>\n",
       "    <tr style=\"text-align: right;\">\n",
       "      <th></th>\n",
       "      <th>target</th>\n",
       "    </tr>\n",
       "  </thead>\n",
       "  <tbody>\n",
       "    <tr>\n",
       "      <th>total_load</th>\n",
       "      <td>0.576940</td>\n",
       "    </tr>\n",
       "    <tr>\n",
       "      <th>window_mean</th>\n",
       "      <td>0.529645</td>\n",
       "    </tr>\n",
       "    <tr>\n",
       "      <th>window_peak</th>\n",
       "      <td>0.357295</td>\n",
       "    </tr>\n",
       "    <tr>\n",
       "      <th>window_dev</th>\n",
       "      <td>0.324742</td>\n",
       "    </tr>\n",
       "    <tr>\n",
       "      <th>ab_diff</th>\n",
       "      <td>0.175344</td>\n",
       "    </tr>\n",
       "    <tr>\n",
       "      <th>window_crossing_point</th>\n",
       "      <td>-0.105124</td>\n",
       "    </tr>\n",
       "    <tr>\n",
       "      <th>hour</th>\n",
       "      <td>0.100808</td>\n",
       "    </tr>\n",
       "    <tr>\n",
       "      <th>re_diff</th>\n",
       "      <td>0.033362</td>\n",
       "    </tr>\n",
       "    <tr>\n",
       "      <th>date</th>\n",
       "      <td>-0.008135</td>\n",
       "    </tr>\n",
       "    <tr>\n",
       "      <th>minute</th>\n",
       "      <td>-0.003857</td>\n",
       "    </tr>\n",
       "    <tr>\n",
       "      <th>weekday</th>\n",
       "      <td>-0.003506</td>\n",
       "    </tr>\n",
       "    <tr>\n",
       "      <th>month</th>\n",
       "      <td>0.003377</td>\n",
       "    </tr>\n",
       "  </tbody>\n",
       "</table>\n",
       "</div>"
      ],
      "text/plain": [
       "                         target\n",
       "total_load             0.576940\n",
       "window_mean            0.529645\n",
       "window_peak            0.357295\n",
       "window_dev             0.324742\n",
       "ab_diff                0.175344\n",
       "window_crossing_point -0.105124\n",
       "hour                   0.100808\n",
       "re_diff                0.033362\n",
       "date                  -0.008135\n",
       "minute                -0.003857\n",
       "weekday               -0.003506\n",
       "month                  0.003377"
      ]
     },
     "execution_count": 6,
     "metadata": {},
     "output_type": "execute_result"
    }
   ],
   "source": [
    "top = c.iloc[:, -1:].reindex(c.target.abs().sort_values(ascending = False).index).iloc[1:, :]\n",
    "top_features = top.index.to_list()\n",
    "top"
   ]
  },
  {
   "cell_type": "markdown",
   "id": "aebb4189",
   "metadata": {},
   "source": [
    "# Test"
   ]
  },
  {
   "cell_type": "code",
   "execution_count": 141,
   "id": "87be1a55",
   "metadata": {},
   "outputs": [],
   "source": [
    "train_y = train_normal.target\n",
    "train_x = train_normal.drop('target', axis = 1)\n",
    "\n",
    "train_x = train_x.drop('month', axis = 1)\n",
    "\n",
    "# convert dates to categorical\n",
    "train_x['date'] = train_x['date'].astype('category')\n",
    "train_x['weekday'] = train_x['weekday'].astype('category')\n",
    "train_x['hour'] = train_x['hour'].astype('category')\n",
    "train_x['minute'] = train_x['minute'].astype('category')\n",
    "\n",
    "train_x = pd.get_dummies(train_x)"
   ]
  },
  {
   "cell_type": "code",
   "execution_count": 142,
   "id": "dcd9b599",
   "metadata": {},
   "outputs": [],
   "source": [
    "feature_a = train.iloc[:,0:7].columns.to_list()\n",
    "feature_b = train.iloc[:,8:-1].columns.to_list()\n",
    "normal_standard = ColumnTransformer([('standardscaler', StandardScaler(), feature_a)], \n",
    "                                    remainder='passthrough')\n",
    "normal_minmax = ColumnTransformer([('minmaxscaler', MinMaxScaler(), feature_b)], \n",
    "                                  remainder='passthrough')\n",
    "\n",
    "test = pd.read_csv(\"./test_data_nolabels.csv\")\n",
    "\n",
    "# transform test data\n",
    "\n",
    "# get dataid\n",
    "test_id = test.dataid\n",
    "\n",
    "# change type from string to datetime object\n",
    "test.localminute = pd.to_datetime(test.localminute)\n",
    "\n",
    "# create new columns\n",
    "test['date'] = test.localminute.dt.day\n",
    "test['weekday'] = test.localminute.dt.weekday\n",
    "test['hour'] = test.localminute.dt.hour\n",
    "test['minute'] = test.localminute.dt.minute\n",
    "\n",
    "# remove localminute and dataid column\n",
    "test = test.drop(['dataid', 'localminute'], axis = 1)\n",
    "\n",
    "col_names = test.columns\n",
    "\n",
    "# normalise test data\n",
    "test = pd.DataFrame(normal_standard.fit_transform(test))\n",
    "# rename columns\n",
    "test.columns = col_names\n",
    "# do the rest\n",
    "test = pd.DataFrame(normal_minmax.fit_transform(test))\n",
    "# rename columns\n",
    "test.columns = feature_b + feature_a\n",
    "\n",
    "# select test columns\n",
    "#test = test[features]\n",
    "\n",
    "# convert dates to categorical\n",
    "test['date'] = test['date'].astype('category')\n",
    "test['weekday'] = test['weekday'].astype('category')\n",
    "test['hour'] = test['hour'].astype('category')\n",
    "test['minute'] = test['minute'].astype('category')\n",
    "\n",
    "test = pd.get_dummies(test)"
   ]
  },
  {
   "cell_type": "code",
   "execution_count": 127,
   "id": "4f8a37f7",
   "metadata": {},
   "outputs": [
    {
     "name": "stdout",
     "output_type": "stream",
     "text": [
      "0    99251\n",
      "1     5701\n",
      "Name: target, dtype: int64\n"
     ]
    }
   ],
   "source": [
    "k_model = KNeighborsClassifier(n_neighbors = 1, algorithm = \"kd_tree\").fit(train_x, train_y)\n",
    "\n",
    "k_test = k_model.predict(test).astype('int')\n",
    "\n",
    "k_final = pd.DataFrame({\"dataid\" : test_id, \"target\" : k_test})\n",
    "k_final.to_csv(\"k_result.csv\", index = False)\n",
    "print(k_final.target.value_counts())"
   ]
  },
  {
   "cell_type": "code",
   "execution_count": 128,
   "id": "af647276",
   "metadata": {},
   "outputs": [
    {
     "name": "stdout",
     "output_type": "stream",
     "text": [
      "0    99726\n",
      "1     5226\n",
      "Name: target, dtype: int64\n"
     ]
    }
   ],
   "source": [
    "rf_model = RandomForestClassifier(max_depth = 35, random_state=0).fit(train_x, train_y)\n",
    "\n",
    "rf_test = rf_model.predict(test).astype('int')\n",
    "\n",
    "rf_final = pd.DataFrame({\"dataid\" : test_id, \"target\" : rf_test})\n",
    "rf_final.to_csv(\"rf_result.csv\", index = False)\n",
    "print(rf_final.target.value_counts())"
   ]
  },
  {
   "cell_type": "code",
   "execution_count": 138,
   "id": "e885caab",
   "metadata": {
    "collapsed": true
   },
   "outputs": [
    {
     "ename": "AttributeError",
     "evalue": "'XGBClassifier' object has no attribute 'tree_'",
     "output_type": "error",
     "traceback": [
      "\u001b[0;31m---------------------------------------------------------------------------\u001b[0m",
      "\u001b[0;31mAttributeError\u001b[0m                            Traceback (most recent call last)",
      "\u001b[0;32m/var/folders/h3/q7m1_6bd3sj67ss_pjmmx7jw0000gn/T/ipykernel_95894/3481534245.py\u001b[0m in \u001b[0;36m<module>\u001b[0;34m\u001b[0m\n\u001b[1;32m      1\u001b[0m \u001b[0;32mfrom\u001b[0m \u001b[0msklearn\u001b[0m\u001b[0;34m.\u001b[0m\u001b[0mtree\u001b[0m \u001b[0;32mimport\u001b[0m \u001b[0mplot_tree\u001b[0m\u001b[0;34m\u001b[0m\u001b[0;34m\u001b[0m\u001b[0m\n\u001b[1;32m      2\u001b[0m \u001b[0;34m\u001b[0m\u001b[0m\n\u001b[0;32m----> 3\u001b[0;31m \u001b[0mplot_tree\u001b[0m\u001b[0;34m(\u001b[0m\u001b[0mxg_model\u001b[0m\u001b[0;34m)\u001b[0m\u001b[0;34m\u001b[0m\u001b[0;34m\u001b[0m\u001b[0m\n\u001b[0m",
      "\u001b[0;32m~/opt/anaconda3/lib/python3.9/site-packages/sklearn/utils/validation.py\u001b[0m in \u001b[0;36minner_f\u001b[0;34m(*args, **kwargs)\u001b[0m\n\u001b[1;32m     61\u001b[0m             \u001b[0mextra_args\u001b[0m \u001b[0;34m=\u001b[0m \u001b[0mlen\u001b[0m\u001b[0;34m(\u001b[0m\u001b[0margs\u001b[0m\u001b[0;34m)\u001b[0m \u001b[0;34m-\u001b[0m \u001b[0mlen\u001b[0m\u001b[0;34m(\u001b[0m\u001b[0mall_args\u001b[0m\u001b[0;34m)\u001b[0m\u001b[0;34m\u001b[0m\u001b[0;34m\u001b[0m\u001b[0m\n\u001b[1;32m     62\u001b[0m             \u001b[0;32mif\u001b[0m \u001b[0mextra_args\u001b[0m \u001b[0;34m<=\u001b[0m \u001b[0;36m0\u001b[0m\u001b[0;34m:\u001b[0m\u001b[0;34m\u001b[0m\u001b[0;34m\u001b[0m\u001b[0m\n\u001b[0;32m---> 63\u001b[0;31m                 \u001b[0;32mreturn\u001b[0m \u001b[0mf\u001b[0m\u001b[0;34m(\u001b[0m\u001b[0;34m*\u001b[0m\u001b[0margs\u001b[0m\u001b[0;34m,\u001b[0m \u001b[0;34m**\u001b[0m\u001b[0mkwargs\u001b[0m\u001b[0;34m)\u001b[0m\u001b[0;34m\u001b[0m\u001b[0;34m\u001b[0m\u001b[0m\n\u001b[0m\u001b[1;32m     64\u001b[0m \u001b[0;34m\u001b[0m\u001b[0m\n\u001b[1;32m     65\u001b[0m             \u001b[0;31m# extra_args > 0\u001b[0m\u001b[0;34m\u001b[0m\u001b[0;34m\u001b[0m\u001b[0m\n",
      "\u001b[0;32m~/opt/anaconda3/lib/python3.9/site-packages/sklearn/tree/_export.py\u001b[0m in \u001b[0;36mplot_tree\u001b[0;34m(decision_tree, max_depth, feature_names, class_names, label, filled, impurity, node_ids, proportion, rotate, rounded, precision, ax, fontsize)\u001b[0m\n\u001b[1;32m    192\u001b[0m         \u001b[0mproportion\u001b[0m\u001b[0;34m=\u001b[0m\u001b[0mproportion\u001b[0m\u001b[0;34m,\u001b[0m \u001b[0mrotate\u001b[0m\u001b[0;34m=\u001b[0m\u001b[0mrotate\u001b[0m\u001b[0;34m,\u001b[0m \u001b[0mrounded\u001b[0m\u001b[0;34m=\u001b[0m\u001b[0mrounded\u001b[0m\u001b[0;34m,\u001b[0m\u001b[0;34m\u001b[0m\u001b[0;34m\u001b[0m\u001b[0m\n\u001b[1;32m    193\u001b[0m         precision=precision, fontsize=fontsize)\n\u001b[0;32m--> 194\u001b[0;31m     \u001b[0;32mreturn\u001b[0m \u001b[0mexporter\u001b[0m\u001b[0;34m.\u001b[0m\u001b[0mexport\u001b[0m\u001b[0;34m(\u001b[0m\u001b[0mdecision_tree\u001b[0m\u001b[0;34m,\u001b[0m \u001b[0max\u001b[0m\u001b[0;34m=\u001b[0m\u001b[0max\u001b[0m\u001b[0;34m)\u001b[0m\u001b[0;34m\u001b[0m\u001b[0;34m\u001b[0m\u001b[0m\n\u001b[0m\u001b[1;32m    195\u001b[0m \u001b[0;34m\u001b[0m\u001b[0m\n\u001b[1;32m    196\u001b[0m \u001b[0;34m\u001b[0m\u001b[0m\n",
      "\u001b[0;32m~/opt/anaconda3/lib/python3.9/site-packages/sklearn/tree/_export.py\u001b[0m in \u001b[0;36mexport\u001b[0;34m(self, decision_tree, ax)\u001b[0m\n\u001b[1;32m    582\u001b[0m         \u001b[0max\u001b[0m\u001b[0;34m.\u001b[0m\u001b[0mclear\u001b[0m\u001b[0;34m(\u001b[0m\u001b[0;34m)\u001b[0m\u001b[0;34m\u001b[0m\u001b[0;34m\u001b[0m\u001b[0m\n\u001b[1;32m    583\u001b[0m         \u001b[0max\u001b[0m\u001b[0;34m.\u001b[0m\u001b[0mset_axis_off\u001b[0m\u001b[0;34m(\u001b[0m\u001b[0;34m)\u001b[0m\u001b[0;34m\u001b[0m\u001b[0;34m\u001b[0m\u001b[0m\n\u001b[0;32m--> 584\u001b[0;31m         my_tree = self._make_tree(0, decision_tree.tree_,\n\u001b[0m\u001b[1;32m    585\u001b[0m                                   decision_tree.criterion)\n\u001b[1;32m    586\u001b[0m         \u001b[0mdraw_tree\u001b[0m \u001b[0;34m=\u001b[0m \u001b[0mbuchheim\u001b[0m\u001b[0;34m(\u001b[0m\u001b[0mmy_tree\u001b[0m\u001b[0;34m)\u001b[0m\u001b[0;34m\u001b[0m\u001b[0;34m\u001b[0m\u001b[0m\n",
      "\u001b[0;31mAttributeError\u001b[0m: 'XGBClassifier' object has no attribute 'tree_'"
     ]
    },
    {
     "data": {
      "image/png": "[encoded data removed]",
      "text/plain": [
       "<Figure size 864x648 with 1 Axes>"
      ]
     },
     "metadata": {},
     "output_type": "display_data"
    }
   ],
   "source": [
    "from sklearn.tree import plot_tree\n",
    "\n",
    "plot_tree(rf_model)"
   ]
  },
  {
   "cell_type": "raw",
   "id": "4b4a9b10",
   "metadata": {},
   "source": [
    "xgb_train = xgb.DMatrix(data =  train_x,label = train_y)\n",
    "xgb_test = xgb.DMatrix(data = test)\n",
    "\n",
    "xg_model = xgb.XGBClassifier(learning_rate = 0.05, max_depth = 35, reg_lambda = 10, n_estimators = 100).fit(xgb_train)\n",
    "\n",
    "xg_test = xg_model.predict(xgb_test).astype('int')\n",
    "\n",
    "xg_final = pd.DataFrame({\"dataid\" : test_id, \"target\" : xg_test})\n",
    "xg_final.to_csv(\"xg_result.csv\", index = False)\n",
    "print(xg_final.target.value_counts())"
   ]
  },
  {
   "cell_type": "code",
   "execution_count": 143,
   "id": "930ca977",
   "metadata": {},
   "outputs": [
    {
     "name": "stdout",
     "output_type": "stream",
     "text": [
      "0    99423\n",
      "1     5529\n",
      "Name: target, dtype: int64\n"
     ]
    }
   ],
   "source": [
    "xg_model = xgb.XGBClassifier(learning_rate = 0.05, max_depth = 35, reg_lambda = 10, n_estimators = 800).fit(train_x,train_y)\n",
    "\n",
    "xg_test = xg_model.predict(test).astype('int')\n",
    "\n",
    "xg_final = pd.DataFrame({\"dataid\" : test_id, \"target\" : xg_test})\n",
    "xg_final.to_csv(\"xg_result.csv\", index = False)\n",
    "print(xg_final.target.value_counts())"
   ]
  },
  {
   "cell_type": "code",
   "execution_count": 139,
   "id": "a994c34d",
   "metadata": {
    "collapsed": true
   },
   "outputs": [
    {
     "ename": "ExecutableNotFound",
     "evalue": "failed to execute PosixPath('dot'), make sure the Graphviz executables are on your systems' PATH",
     "output_type": "error",
     "traceback": [
      "\u001b[0;31m---------------------------------------------------------------------------\u001b[0m",
      "\u001b[0;31mFileNotFoundError\u001b[0m                         Traceback (most recent call last)",
      "\u001b[0;32m~/opt/anaconda3/lib/python3.9/site-packages/graphviz/backend/execute.py\u001b[0m in \u001b[0;36mrun_check\u001b[0;34m(cmd, input_lines, encoding, quiet, **kwargs)\u001b[0m\n\u001b[1;32m     78\u001b[0m                 \u001b[0mkwargs\u001b[0m\u001b[0;34m[\u001b[0m\u001b[0;34m'stdout'\u001b[0m\u001b[0;34m]\u001b[0m \u001b[0;34m=\u001b[0m \u001b[0mkwargs\u001b[0m\u001b[0;34m[\u001b[0m\u001b[0;34m'stderr'\u001b[0m\u001b[0;34m]\u001b[0m \u001b[0;34m=\u001b[0m \u001b[0msubprocess\u001b[0m\u001b[0;34m.\u001b[0m\u001b[0mPIPE\u001b[0m\u001b[0;34m\u001b[0m\u001b[0;34m\u001b[0m\u001b[0m\n\u001b[0;32m---> 79\u001b[0;31m             \u001b[0mproc\u001b[0m \u001b[0;34m=\u001b[0m \u001b[0m_run_input_lines\u001b[0m\u001b[0;34m(\u001b[0m\u001b[0mcmd\u001b[0m\u001b[0;34m,\u001b[0m \u001b[0minput_lines\u001b[0m\u001b[0;34m,\u001b[0m \u001b[0mkwargs\u001b[0m\u001b[0;34m=\u001b[0m\u001b[0mkwargs\u001b[0m\u001b[0;34m)\u001b[0m\u001b[0;34m\u001b[0m\u001b[0;34m\u001b[0m\u001b[0m\n\u001b[0m\u001b[1;32m     80\u001b[0m         \u001b[0;32melse\u001b[0m\u001b[0;34m:\u001b[0m\u001b[0;34m\u001b[0m\u001b[0;34m\u001b[0m\u001b[0m\n",
      "\u001b[0;32m~/opt/anaconda3/lib/python3.9/site-packages/graphviz/backend/execute.py\u001b[0m in \u001b[0;36m_run_input_lines\u001b[0;34m(cmd, input_lines, kwargs)\u001b[0m\n\u001b[1;32m     98\u001b[0m \u001b[0;32mdef\u001b[0m \u001b[0m_run_input_lines\u001b[0m\u001b[0;34m(\u001b[0m\u001b[0mcmd\u001b[0m\u001b[0;34m,\u001b[0m \u001b[0minput_lines\u001b[0m\u001b[0;34m,\u001b[0m \u001b[0;34m*\u001b[0m\u001b[0;34m,\u001b[0m \u001b[0mkwargs\u001b[0m\u001b[0;34m)\u001b[0m\u001b[0;34m:\u001b[0m\u001b[0;34m\u001b[0m\u001b[0;34m\u001b[0m\u001b[0m\n\u001b[0;32m---> 99\u001b[0;31m     \u001b[0mpopen\u001b[0m \u001b[0;34m=\u001b[0m \u001b[0msubprocess\u001b[0m\u001b[0;34m.\u001b[0m\u001b[0mPopen\u001b[0m\u001b[0;34m(\u001b[0m\u001b[0mcmd\u001b[0m\u001b[0;34m,\u001b[0m \u001b[0mstdin\u001b[0m\u001b[0;34m=\u001b[0m\u001b[0msubprocess\u001b[0m\u001b[0;34m.\u001b[0m\u001b[0mPIPE\u001b[0m\u001b[0;34m,\u001b[0m \u001b[0;34m**\u001b[0m\u001b[0mkwargs\u001b[0m\u001b[0;34m)\u001b[0m\u001b[0;34m\u001b[0m\u001b[0;34m\u001b[0m\u001b[0m\n\u001b[0m\u001b[1;32m    100\u001b[0m \u001b[0;34m\u001b[0m\u001b[0m\n",
      "\u001b[0;32m~/opt/anaconda3/lib/python3.9/subprocess.py\u001b[0m in \u001b[0;36m__init__\u001b[0;34m(self, args, bufsize, executable, stdin, stdout, stderr, preexec_fn, close_fds, shell, cwd, env, universal_newlines, startupinfo, creationflags, restore_signals, start_new_session, pass_fds, user, group, extra_groups, encoding, errors, text, umask)\u001b[0m\n\u001b[1;32m    950\u001b[0m \u001b[0;34m\u001b[0m\u001b[0m\n\u001b[0;32m--> 951\u001b[0;31m             self._execute_child(args, executable, preexec_fn, close_fds,\n\u001b[0m\u001b[1;32m    952\u001b[0m                                 \u001b[0mpass_fds\u001b[0m\u001b[0;34m,\u001b[0m \u001b[0mcwd\u001b[0m\u001b[0;34m,\u001b[0m \u001b[0menv\u001b[0m\u001b[0;34m,\u001b[0m\u001b[0;34m\u001b[0m\u001b[0;34m\u001b[0m\u001b[0m\n",
      "\u001b[0;32m~/opt/anaconda3/lib/python3.9/subprocess.py\u001b[0m in \u001b[0;36m_execute_child\u001b[0;34m(self, args, executable, preexec_fn, close_fds, pass_fds, cwd, env, startupinfo, creationflags, shell, p2cread, p2cwrite, c2pread, c2pwrite, errread, errwrite, restore_signals, gid, gids, uid, umask, start_new_session)\u001b[0m\n\u001b[1;32m   1820\u001b[0m                         \u001b[0merr_msg\u001b[0m \u001b[0;34m=\u001b[0m \u001b[0mos\u001b[0m\u001b[0;34m.\u001b[0m\u001b[0mstrerror\u001b[0m\u001b[0;34m(\u001b[0m\u001b[0merrno_num\u001b[0m\u001b[0;34m)\u001b[0m\u001b[0;34m\u001b[0m\u001b[0;34m\u001b[0m\u001b[0m\n\u001b[0;32m-> 1821\u001b[0;31m                     \u001b[0;32mraise\u001b[0m \u001b[0mchild_exception_type\u001b[0m\u001b[0;34m(\u001b[0m\u001b[0merrno_num\u001b[0m\u001b[0;34m,\u001b[0m \u001b[0merr_msg\u001b[0m\u001b[0;34m,\u001b[0m \u001b[0merr_filename\u001b[0m\u001b[0;34m)\u001b[0m\u001b[0;34m\u001b[0m\u001b[0;34m\u001b[0m\u001b[0m\n\u001b[0m\u001b[1;32m   1822\u001b[0m                 \u001b[0;32mraise\u001b[0m \u001b[0mchild_exception_type\u001b[0m\u001b[0;34m(\u001b[0m\u001b[0merr_msg\u001b[0m\u001b[0;34m)\u001b[0m\u001b[0;34m\u001b[0m\u001b[0;34m\u001b[0m\u001b[0m\n",
      "\u001b[0;31mFileNotFoundError\u001b[0m: [Errno 2] No such file or directory: PosixPath('dot')",
      "\nThe above exception was the direct cause of the following exception:\n",
      "\u001b[0;31mExecutableNotFound\u001b[0m                        Traceback (most recent call last)",
      "\u001b[0;32m/var/folders/h3/q7m1_6bd3sj67ss_pjmmx7jw0000gn/T/ipykernel_95894/1590954904.py\u001b[0m in \u001b[0;36m<module>\u001b[0;34m\u001b[0m\n\u001b[1;32m      2\u001b[0m \u001b[0;32mimport\u001b[0m \u001b[0mmatplotlib\u001b[0m\u001b[0;34m.\u001b[0m\u001b[0mpyplot\u001b[0m \u001b[0;32mas\u001b[0m \u001b[0mplt\u001b[0m\u001b[0;34m\u001b[0m\u001b[0;34m\u001b[0m\u001b[0m\n\u001b[1;32m      3\u001b[0m \u001b[0;34m\u001b[0m\u001b[0m\n\u001b[0;32m----> 4\u001b[0;31m \u001b[0mpt\u001b[0m\u001b[0;34m(\u001b[0m\u001b[0mxg_model\u001b[0m\u001b[0;34m)\u001b[0m\u001b[0;34m\u001b[0m\u001b[0;34m\u001b[0m\u001b[0m\n\u001b[0m",
      "\u001b[0;32m~/opt/anaconda3/lib/python3.9/site-packages/xgboost/plotting.py\u001b[0m in \u001b[0;36mplot_tree\u001b[0;34m(booster, fmap, num_trees, rankdir, ax, **kwargs)\u001b[0m\n\u001b[1;32m    249\u001b[0m \u001b[0;34m\u001b[0m\u001b[0m\n\u001b[1;32m    250\u001b[0m     \u001b[0ms\u001b[0m \u001b[0;34m=\u001b[0m \u001b[0mBytesIO\u001b[0m\u001b[0;34m(\u001b[0m\u001b[0;34m)\u001b[0m\u001b[0;34m\u001b[0m\u001b[0;34m\u001b[0m\u001b[0m\n\u001b[0;32m--> 251\u001b[0;31m     \u001b[0ms\u001b[0m\u001b[0;34m.\u001b[0m\u001b[0mwrite\u001b[0m\u001b[0;34m(\u001b[0m\u001b[0mg\u001b[0m\u001b[0;34m.\u001b[0m\u001b[0mpipe\u001b[0m\u001b[0;34m(\u001b[0m\u001b[0mformat\u001b[0m\u001b[0;34m=\u001b[0m\u001b[0;34m'png'\u001b[0m\u001b[0;34m)\u001b[0m\u001b[0;34m)\u001b[0m\u001b[0;34m\u001b[0m\u001b[0;34m\u001b[0m\u001b[0m\n\u001b[0m\u001b[1;32m    252\u001b[0m     \u001b[0ms\u001b[0m\u001b[0;34m.\u001b[0m\u001b[0mseek\u001b[0m\u001b[0;34m(\u001b[0m\u001b[0;36m0\u001b[0m\u001b[0;34m)\u001b[0m\u001b[0;34m\u001b[0m\u001b[0;34m\u001b[0m\u001b[0m\n\u001b[1;32m    253\u001b[0m     \u001b[0mimg\u001b[0m \u001b[0;34m=\u001b[0m \u001b[0mimage\u001b[0m\u001b[0;34m.\u001b[0m\u001b[0mimread\u001b[0m\u001b[0;34m(\u001b[0m\u001b[0ms\u001b[0m\u001b[0;34m)\u001b[0m\u001b[0;34m\u001b[0m\u001b[0;34m\u001b[0m\u001b[0m\n",
      "\u001b[0;32m~/opt/anaconda3/lib/python3.9/site-packages/graphviz/piping.py\u001b[0m in \u001b[0;36mpipe\u001b[0;34m(self, format, renderer, formatter, neato_no_op, quiet, engine, encoding)\u001b[0m\n\u001b[1;32m    102\u001b[0m             \u001b[0;34m'<?xml version='\u001b[0m\u001b[0;34m\u001b[0m\u001b[0;34m\u001b[0m\u001b[0m\n\u001b[1;32m    103\u001b[0m         \"\"\"\n\u001b[0;32m--> 104\u001b[0;31m         return self._pipe_legacy(format,\n\u001b[0m\u001b[1;32m    105\u001b[0m                                  \u001b[0mrenderer\u001b[0m\u001b[0;34m=\u001b[0m\u001b[0mrenderer\u001b[0m\u001b[0;34m,\u001b[0m\u001b[0;34m\u001b[0m\u001b[0;34m\u001b[0m\u001b[0m\n\u001b[1;32m    106\u001b[0m                                  \u001b[0mformatter\u001b[0m\u001b[0;34m=\u001b[0m\u001b[0mformatter\u001b[0m\u001b[0;34m,\u001b[0m\u001b[0;34m\u001b[0m\u001b[0;34m\u001b[0m\u001b[0m\n",
      "\u001b[0;32m~/opt/anaconda3/lib/python3.9/site-packages/graphviz/_tools.py\u001b[0m in \u001b[0;36mwrapper\u001b[0;34m(*args, **kwargs)\u001b[0m\n\u001b[1;32m    169\u001b[0m                               category=category)\n\u001b[1;32m    170\u001b[0m \u001b[0;34m\u001b[0m\u001b[0m\n\u001b[0;32m--> 171\u001b[0;31m             \u001b[0;32mreturn\u001b[0m \u001b[0mfunc\u001b[0m\u001b[0;34m(\u001b[0m\u001b[0;34m*\u001b[0m\u001b[0margs\u001b[0m\u001b[0;34m,\u001b[0m \u001b[0;34m**\u001b[0m\u001b[0mkwargs\u001b[0m\u001b[0;34m)\u001b[0m\u001b[0;34m\u001b[0m\u001b[0;34m\u001b[0m\u001b[0m\n\u001b[0m\u001b[1;32m    172\u001b[0m \u001b[0;34m\u001b[0m\u001b[0m\n\u001b[1;32m    173\u001b[0m         \u001b[0;32mreturn\u001b[0m \u001b[0mwrapper\u001b[0m\u001b[0;34m\u001b[0m\u001b[0;34m\u001b[0m\u001b[0m\n",
      "\u001b[0;32m~/opt/anaconda3/lib/python3.9/site-packages/graphviz/piping.py\u001b[0m in \u001b[0;36m_pipe_legacy\u001b[0;34m(self, format, renderer, formatter, neato_no_op, quiet, engine, encoding)\u001b[0m\n\u001b[1;32m    119\u001b[0m                      \u001b[0mengine\u001b[0m\u001b[0;34m:\u001b[0m \u001b[0mtyping\u001b[0m\u001b[0;34m.\u001b[0m\u001b[0mOptional\u001b[0m\u001b[0;34m[\u001b[0m\u001b[0mstr\u001b[0m\u001b[0;34m]\u001b[0m \u001b[0;34m=\u001b[0m \u001b[0;32mNone\u001b[0m\u001b[0;34m,\u001b[0m\u001b[0;34m\u001b[0m\u001b[0;34m\u001b[0m\u001b[0m\n\u001b[1;32m    120\u001b[0m                      encoding: typing.Optional[str] = None) -> typing.Union[bytes, str]:\n\u001b[0;32m--> 121\u001b[0;31m         return self._pipe_future(format,\n\u001b[0m\u001b[1;32m    122\u001b[0m                                  \u001b[0mrenderer\u001b[0m\u001b[0;34m=\u001b[0m\u001b[0mrenderer\u001b[0m\u001b[0;34m,\u001b[0m\u001b[0;34m\u001b[0m\u001b[0;34m\u001b[0m\u001b[0m\n\u001b[1;32m    123\u001b[0m                                  \u001b[0mformatter\u001b[0m\u001b[0;34m=\u001b[0m\u001b[0mformatter\u001b[0m\u001b[0;34m,\u001b[0m\u001b[0;34m\u001b[0m\u001b[0;34m\u001b[0m\u001b[0m\n",
      "\u001b[0;32m~/opt/anaconda3/lib/python3.9/site-packages/graphviz/piping.py\u001b[0m in \u001b[0;36m_pipe_future\u001b[0;34m(self, format, renderer, formatter, neato_no_op, quiet, engine, encoding)\u001b[0m\n\u001b[1;32m    159\u001b[0m             \u001b[0;32melse\u001b[0m\u001b[0;34m:\u001b[0m\u001b[0;34m\u001b[0m\u001b[0;34m\u001b[0m\u001b[0m\n\u001b[1;32m    160\u001b[0m                 \u001b[0;32mreturn\u001b[0m \u001b[0mraw\u001b[0m\u001b[0;34m.\u001b[0m\u001b[0mdecode\u001b[0m\u001b[0;34m(\u001b[0m\u001b[0mencoding\u001b[0m\u001b[0;34m)\u001b[0m\u001b[0;34m\u001b[0m\u001b[0;34m\u001b[0m\u001b[0m\n\u001b[0;32m--> 161\u001b[0;31m         \u001b[0;32mreturn\u001b[0m \u001b[0mself\u001b[0m\u001b[0;34m.\u001b[0m\u001b[0m_pipe_lines\u001b[0m\u001b[0;34m(\u001b[0m\u001b[0;34m*\u001b[0m\u001b[0margs\u001b[0m\u001b[0;34m,\u001b[0m \u001b[0minput_encoding\u001b[0m\u001b[0;34m=\u001b[0m\u001b[0mself\u001b[0m\u001b[0;34m.\u001b[0m\u001b[0mencoding\u001b[0m\u001b[0;34m,\u001b[0m \u001b[0;34m**\u001b[0m\u001b[0mkwargs\u001b[0m\u001b[0;34m)\u001b[0m\u001b[0;34m\u001b[0m\u001b[0;34m\u001b[0m\u001b[0m\n\u001b[0m",
      "\u001b[0;32m~/opt/anaconda3/lib/python3.9/site-packages/graphviz/backend/piping.py\u001b[0m in \u001b[0;36mpipe_lines\u001b[0;34m(engine, format, input_lines, input_encoding, renderer, formatter, neato_no_op, quiet)\u001b[0m\n\u001b[1;32m    159\u001b[0m     \u001b[0mkwargs\u001b[0m \u001b[0;34m=\u001b[0m \u001b[0;34m{\u001b[0m\u001b[0;34m'input_lines'\u001b[0m\u001b[0;34m:\u001b[0m \u001b[0;34m(\u001b[0m\u001b[0mline\u001b[0m\u001b[0;34m.\u001b[0m\u001b[0mencode\u001b[0m\u001b[0;34m(\u001b[0m\u001b[0minput_encoding\u001b[0m\u001b[0;34m)\u001b[0m \u001b[0;32mfor\u001b[0m \u001b[0mline\u001b[0m \u001b[0;32min\u001b[0m \u001b[0minput_lines\u001b[0m\u001b[0;34m)\u001b[0m\u001b[0;34m}\u001b[0m\u001b[0;34m\u001b[0m\u001b[0;34m\u001b[0m\u001b[0m\n\u001b[1;32m    160\u001b[0m \u001b[0;34m\u001b[0m\u001b[0m\n\u001b[0;32m--> 161\u001b[0;31m     \u001b[0mproc\u001b[0m \u001b[0;34m=\u001b[0m \u001b[0mexecute\u001b[0m\u001b[0;34m.\u001b[0m\u001b[0mrun_check\u001b[0m\u001b[0;34m(\u001b[0m\u001b[0mcmd\u001b[0m\u001b[0;34m,\u001b[0m \u001b[0mcapture_output\u001b[0m\u001b[0;34m=\u001b[0m\u001b[0;32mTrue\u001b[0m\u001b[0;34m,\u001b[0m \u001b[0mquiet\u001b[0m\u001b[0;34m=\u001b[0m\u001b[0mquiet\u001b[0m\u001b[0;34m,\u001b[0m \u001b[0;34m**\u001b[0m\u001b[0mkwargs\u001b[0m\u001b[0;34m)\u001b[0m\u001b[0;34m\u001b[0m\u001b[0;34m\u001b[0m\u001b[0m\n\u001b[0m\u001b[1;32m    162\u001b[0m     \u001b[0;32mreturn\u001b[0m \u001b[0mproc\u001b[0m\u001b[0;34m.\u001b[0m\u001b[0mstdout\u001b[0m\u001b[0;34m\u001b[0m\u001b[0;34m\u001b[0m\u001b[0m\n\u001b[1;32m    163\u001b[0m \u001b[0;34m\u001b[0m\u001b[0m\n",
      "\u001b[0;32m~/opt/anaconda3/lib/python3.9/site-packages/graphviz/backend/execute.py\u001b[0m in \u001b[0;36mrun_check\u001b[0;34m(cmd, input_lines, encoding, quiet, **kwargs)\u001b[0m\n\u001b[1;32m     82\u001b[0m     \u001b[0;32mexcept\u001b[0m \u001b[0mOSError\u001b[0m \u001b[0;32mas\u001b[0m \u001b[0me\u001b[0m\u001b[0;34m:\u001b[0m\u001b[0;34m\u001b[0m\u001b[0;34m\u001b[0m\u001b[0m\n\u001b[1;32m     83\u001b[0m         \u001b[0;32mif\u001b[0m \u001b[0me\u001b[0m\u001b[0;34m.\u001b[0m\u001b[0merrno\u001b[0m \u001b[0;34m==\u001b[0m \u001b[0merrno\u001b[0m\u001b[0;34m.\u001b[0m\u001b[0mENOENT\u001b[0m\u001b[0;34m:\u001b[0m\u001b[0;34m\u001b[0m\u001b[0;34m\u001b[0m\u001b[0m\n\u001b[0;32m---> 84\u001b[0;31m             \u001b[0;32mraise\u001b[0m \u001b[0mExecutableNotFound\u001b[0m\u001b[0;34m(\u001b[0m\u001b[0mcmd\u001b[0m\u001b[0;34m)\u001b[0m \u001b[0;32mfrom\u001b[0m \u001b[0me\u001b[0m\u001b[0;34m\u001b[0m\u001b[0;34m\u001b[0m\u001b[0m\n\u001b[0m\u001b[1;32m     85\u001b[0m         \u001b[0;32mraise\u001b[0m\u001b[0;34m\u001b[0m\u001b[0;34m\u001b[0m\u001b[0m\n\u001b[1;32m     86\u001b[0m \u001b[0;34m\u001b[0m\u001b[0m\n",
      "\u001b[0;31mExecutableNotFound\u001b[0m: failed to execute PosixPath('dot'), make sure the Graphviz executables are on your systems' PATH"
     ]
    },
    {
     "data": {
      "image/png": "[encoded data removed]",
      "text/plain": [
       "<Figure size 864x648 with 1 Axes>"
      ]
     },
     "metadata": {},
     "output_type": "display_data"
    }
   ],
   "source": [
    "from xgboost import plot_tree as pt\n",
    "import matplotlib.pyplot as plt\n",
    "\n",
    "pt(xg_model)"
   ]
  },
  {
   "cell_type": "markdown",
   "id": "8b90619c",
   "metadata": {},
   "source": [
    "## No Dummies"
   ]
  },
  {
   "cell_type": "code",
   "execution_count": 119,
   "id": "3c7f3652",
   "metadata": {},
   "outputs": [],
   "source": [
    "# train no dummies\n",
    "\n",
    "train_y = train_normal.target\n",
    "train_x = train_normal.drop('target', axis = 1)\n",
    "\n",
    "train_x = train_x.drop('month', axis = 1)\n",
    "\n",
    "# test no dummies\n",
    "\n",
    "feature_a = train.iloc[:,0:7].columns.to_list()\n",
    "feature_b = train.iloc[:,8:-1].columns.to_list()\n",
    "normal_standard = ColumnTransformer([('standardscaler', StandardScaler(), feature_a)], \n",
    "                                    remainder='passthrough')\n",
    "normal_minmax = ColumnTransformer([('minmaxscaler', MinMaxScaler(), feature_b)], \n",
    "                                  remainder='passthrough')\n",
    "\n",
    "test = pd.read_csv(\"./test_data_nolabels.csv\")\n",
    "\n",
    "# transform test data\n",
    "\n",
    "# get dataid\n",
    "test_id = test.dataid\n",
    "\n",
    "# change type from string to datetime object\n",
    "test.localminute = pd.to_datetime(test.localminute)\n",
    "\n",
    "# create new columns\n",
    "test['date'] = test.localminute.dt.day\n",
    "test['weekday'] = test.localminute.dt.weekday\n",
    "test['hour'] = test.localminute.dt.hour\n",
    "test['minute'] = test.localminute.dt.minute\n",
    "\n",
    "# remove localminute and dataid column\n",
    "test = test.drop(['dataid', 'localminute'], axis = 1)\n",
    "\n",
    "col_names = test.columns\n",
    "\n",
    "# normalise test data\n",
    "test = pd.DataFrame(normal_standard.fit_transform(test))\n",
    "# rename columns\n",
    "test.columns = col_names\n",
    "# do the rest\n",
    "test = pd.DataFrame(normal_minmax.fit_transform(test))\n",
    "# rename columns\n",
    "test.columns = feature_b + feature_a\n",
    "\n",
    "# select test columns\n",
    "#test = test[features]\n",
    "\n",
    "# convert dates to categorical\n",
    "test['date'] = test['date'].astype('category')\n",
    "test['weekday'] = test['weekday'].astype('category')\n",
    "test['hour'] = test['hour'].astype('category')\n",
    "test['minute'] = test['minute'].astype('category')"
   ]
  },
  {
   "cell_type": "code",
   "execution_count": 120,
   "id": "26a2dae6",
   "metadata": {},
   "outputs": [
    {
     "name": "stdout",
     "output_type": "stream",
     "text": [
      "0    98416\n",
      "1     6536\n",
      "Name: target, dtype: int64\n",
      "[[-0.43011004  0.14269358 -1.48071357 -0.08601288  1.83567011 -0.15163288\n",
      "   0.09867033  1.68454476  0.76459465 -1.35974101 -0.97647455]] [-5.83595267]\n"
     ]
    }
   ],
   "source": [
    "lr_model = LogisticRegression(max_iter=1000).fit(train_x, train_y)\n",
    "\n",
    "lr_test = lr_model.predict(test).astype('int')\n",
    "\n",
    "lr_final = pd.DataFrame({\"dataid\" : test_id, \"target\" : lr_test})\n",
    "lr_final.to_csv(\"lr_result.csv\", index = False)\n",
    "print(lr_final.target.value_counts())\n",
    "print(lr_model.coef_, lr_model.intercept_)"
   ]
  },
  {
   "cell_type": "code",
   "execution_count": 123,
   "id": "0f403015",
   "metadata": {},
   "outputs": [
    {
     "data": {
      "text/plain": [
       "Index(['date', 'weekday', 'hour', 'minute', 'total_load', 'ab_diff', 're_diff',\n",
       "       'window_mean', 'window_dev', 'window_crossing_point', 'window_peak'],\n",
       "      dtype='object')"
      ]
     },
     "execution_count": 123,
     "metadata": {},
     "output_type": "execute_result"
    }
   ],
   "source": [
    "train_x.columns"
   ]
  },
  {
   "cell_type": "code",
   "execution_count": null,
   "id": "ac81906e",
   "metadata": {},
   "outputs": [],
   "source": []
  }
 ],
 "metadata": {
  "kernelspec": {
   "display_name": "Python 3 (ipykernel)",
   "language": "python",
   "name": "python3"
  },
  "language_info": {
   "codemirror_mode": {
    "name": "ipython",
    "version": 3
   },
   "file_extension": ".py",
   "mimetype": "text/x-python",
   "name": "python",
   "nbconvert_exporter": "python",
   "pygments_lexer": "ipython3",
   "version": "3.9.7"
  }
 },
 "nbformat": 4,
 "nbformat_minor": 5
}
