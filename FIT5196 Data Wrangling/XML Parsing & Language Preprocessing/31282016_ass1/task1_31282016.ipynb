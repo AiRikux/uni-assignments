{
 "cells": [
  {
   "cell_type": "markdown",
   "metadata": {},
   "source": [
    "# FIT5196 Task 1 in Assessment 1\n",
    "#### Student Name: Nabilah Anuwar\n",
    "#### Student ID: 31282016\n",
    "\n",
    "Date: 13 Sept 2020\n",
    "\n",
    "Environment: Python 3 and Jupyter notebook\n",
    "\n",
    "Libraries used: please include the main libraries you used in your assignment here, e.g.,:\n",
    "* re (for regular expression) \n",
    "* os (for directories and files)\n",
    "* langid (for language management)\n"
   ]
  },
  {
   "cell_type": "markdown",
   "metadata": {},
   "source": [
    "## 1.  Import Libraries "
   ]
  },
  {
   "cell_type": "code",
   "execution_count": null,
   "metadata": {},
   "outputs": [],
   "source": [
    "import os\n",
    "import re\n",
    "import langid"
   ]
  },
  {
   "cell_type": "markdown",
   "metadata": {
    "collapsed": true
   },
   "source": [
    "## 2. Converting to XML\n"
   ]
  },
  {
   "cell_type": "markdown",
   "metadata": {},
   "source": [
    "### Set up variables\n",
    "\n",
    "Here put the file just above the directory of the tweets files. If there is a need to change the file name then it can be changed in the directory variable below."
   ]
  },
  {
   "cell_type": "code",
   "execution_count": null,
   "metadata": {},
   "outputs": [],
   "source": [
    "directory = './31282016'\n",
    "\n",
    "# set up possible patterns for regex\n",
    "pattern1 = \"(?:{\\\"text\\\":\\\")(?P<text>.*?)(?:\\\",)(?:\\\"created_at\\\":\\\")(?P<date>.*?)(?:\\\",)(?:\\\"id\\\":\\\")(?P<id>\\d{19})(?:\\\"})\"\n",
    "pattern2 = \"(?:{\\\"text\\\":\\\")(?P<text>.*?)(?:\\\",)(?:\\\"id\\\":\\\")(?P<id>\\d{19})(?:\\\",)(?:\\\"created_at\\\":\\\")(?P<date>.*?)(?:\\\"})\"\n",
    "pattern3 = \"(?:{\\\"id\\\":\\\")(?P<id>\\d{19})(?:\\\",)(?:\\\"text\\\":\\\")(?P<text>.*?)(?:\\\",)(?:\\\"created_at\\\":\\\")(?P<date>.*?)(?:\\\"})\"\n",
    "pattern4 = \"(?:{\\\"id\\\":\\\")(?P<id>\\d{19})(?:\\\",)(?:\\\"created_at\\\":\\\")(?P<date>.*?)(?:\\\",)(?:\\\"text\\\":\\\")(?P<text>.*?)(?:\\\"})\"\n",
    "pattern5 = \"(?:{\\\"created_at\\\":\\\")(?P<date>.*?)(?:\\\",)(?:\\\"id\\\":\\\")(?P<id>\\d{19})(?:\\\",)(?:\\\"text\\\":\\\")(?P<text>.*?)(?:\\\"})\"\n",
    "pattern6 = \"(?:{\\\"created_at\\\":\\\")(?P<date>.*?)(?:\\\",)(?:\\\"text\\\":\\\")(?P<text>.*?)(?:\\\",)(?:\\\"id\\\":\\\")(?P<id>\\d{19})(?:\\\"})\"\n",
    "\n",
    "# language type\n",
    "lang = ['en']\n",
    "\n",
    "# overwrite files if any exist\n",
    "# create files is none exist\n",
    "out = open(\"31282016.xml\", 'w')\n",
    "out.write(\"<?xml version=\\\"1.0\\\" encoding=\\\"UTF-8\\\"?>\")\n",
    "out.write('\\n')\n",
    "out.close()\n",
    "\n",
    "# opened to write\n",
    "out = open(\"31282016.xml\", \"a\")\n",
    "out.write(\"<data>\")\n",
    "out.write('\\n')\n",
    "\n",
    "# function to set up tweets format\n",
    "def tweet(idp, t):\n",
    "    tweet = \"<tweet id=\\\"{i}\\\">{txt}</tweet>\".format(i=idp, txt=t)\n",
    "    return tweet"
   ]
  },
  {
   "cell_type": "markdown",
   "metadata": {
    "collapsed": true
   },
   "source": [
    "### Convert to XML"
   ]
  },
  {
   "cell_type": "code",
   "execution_count": null,
   "metadata": {
    "scrolled": false
   },
   "outputs": [],
   "source": [
    "# put here to ensure when starting this would be empty\n",
    "# set up list and dictionary to store tweets\n",
    "dates = []\n",
    "text = {}\n",
    "# set up for id duplicate check\n",
    "ids = []\n",
    "\n",
    "for filename in os.listdir(directory):\n",
    "    # ensure that file is .txt\n",
    "    # http://carrefax.com/new-blog/2017/1/16/draft\n",
    "    if filename.endswith(\".txt\") :\n",
    "        f = open(directory + \"/\" + filename, \"r\", encoding=\"UTF-8\")\n",
    "        lines = f.read()\n",
    "        pattern = (pattern1, pattern2, pattern3, pattern4, pattern5, pattern6)\n",
    "\n",
    "        # for each file we test pattern\n",
    "        for p in pattern:\n",
    "            m = re.finditer(p, lines)\n",
    "\n",
    "            # check all pattern found\n",
    "            for n in m:\n",
    "                # assuming that all dates in the correct format\n",
    "                date = n['date'][:10]\n",
    "                t = n['text']\n",
    "                idp = n['id']\n",
    "\n",
    "                # check if id is duplicate\n",
    "                if len(ids) == 0:\n",
    "                    pass\n",
    "\n",
    "                else:\n",
    "                    for x in ids:\n",
    "                        if idp == x:\n",
    "                            id_check = False\n",
    "                            break\n",
    "                        else:\n",
    "                            id_check = True\n",
    "\n",
    "                    if id_check is True:\n",
    "                        pass\n",
    "\n",
    "                    else:\n",
    "                        continue\n",
    "                \n",
    "                # prevent errors when importing files as multiple backlashes may get recorded\n",
    "                t = t.replace('\\\\\\\\', '\\\\')\n",
    "\n",
    "                # make characters emojis\n",
    "                r = re.finditer(r\"(?:.?)(\\\\u\\w{4})+\", t)\n",
    "                if r == None:\n",
    "                    pass\n",
    "                else:\n",
    "                    for i in r:\n",
    "                        u = i.group()\n",
    "                        u = u.encode().decode(\"unicode_escape\").encode('utf-16', 'surrogatepass').decode(\"utf-16\")\n",
    "                        t = t.replace(str(i.group()), u)\n",
    "\n",
    "                # replace command with backlashes accordingly\n",
    "                t = t.replace('\\\\n', '\\n')\n",
    "                t = t.replace('\\\\r', '\\r')\n",
    "\n",
    "                # replace necessary values with xml values\n",
    "                t = t.replace('&', '&amp;')\n",
    "                t = t.replace('<', '&lt;')\n",
    "                t = t.replace('>', '&gt;')\n",
    "                t = t.replace(r'\\\"', '&quot;')\n",
    "                t = t.replace(r\"'\", \"&apos;\")\n",
    "\n",
    "                # check language\n",
    "                lang_check = False\n",
    "                for l in lang:\n",
    "                    text_lang = langid.classify(t)[0]\n",
    "                    if text_lang == l:\n",
    "                        lang_check = True\n",
    "                        break\n",
    "\n",
    "                    else:\n",
    "                        lang_check = False\n",
    "\n",
    "                if lang_check is True:\n",
    "                    pass\n",
    "\n",
    "                else:\n",
    "                    continue\n",
    "\n",
    "                # append the ids and dates accordingly to the list\n",
    "                # append id for duplicate id checking\n",
    "                ids.append(idp)\n",
    "                # append dates for tweet reference when importing to document later\n",
    "                dates.append(date)\n",
    "\n",
    "                # append tweet to dictionary list\n",
    "                # try to see if date exist\n",
    "                if text.get(date, False):\n",
    "                    text[date].append(tweet(idp, t))\n",
    "\n",
    "                # if date doesn't exist then make a new one with a list as its value and date as key\n",
    "                else:\n",
    "                    text[date] = []\n",
    "                    text[date].append(tweet(idp, t))\n",
    "            continue\n",
    "        else:\n",
    "            continue\n",
    "            \n",
    "print(\"Files are ready to be converted\")"
   ]
  },
  {
   "cell_type": "markdown",
   "metadata": {},
   "source": [
    "### Append to file"
   ]
  },
  {
   "cell_type": "code",
   "execution_count": null,
   "metadata": {},
   "outputs": [],
   "source": [
    "# make sure dates value doesnt repeat\n",
    "dates = set(dates)\n",
    "# loop through the dates to import from dictionary\n",
    "for d in dates:\n",
    "    # insert beginning tweet tag with id \n",
    "    out.write(\"<tweets date=\\\"{dd}\\\">\".format(dd=d))\n",
    "    # ensure tweets start in a new line like the sample format\n",
    "    out.write('\\n')\n",
    "    for tt in text[d]:\n",
    "        # write in tweets from list\n",
    "        out.write(tt)\n",
    "        # ensure tweets start in new line like sample\n",
    "        out.write('\\n')\n",
    "    out.write(\"</tweets>\")\n",
    "    out.write('\\n')\n",
    "out.write(\"</data>\")\n",
    "out.close()\n",
    "\n",
    "print(\"Files has been converted to xml\")"
   ]
  },
  {
   "cell_type": "markdown",
   "metadata": {},
   "source": [
    "## 3. Summary\n",
    "Basically I go through the files lines to search for those with the correct pattern. To make sure I have the correct pattern there are 6 patterns possible and we test each files for it. There are many assumptions for this:\n",
    "* assuming that date format is correct when pattern is found\n",
    "* trusting that the language detected by the package langid is indeed english\n",
    "\n",
    "Some concerns of mine are:\n",
    "* I have successfully created a loop and encode and decode accordingly yet the emojis don't all get converted. Some of the emoji's issue is that they do not have a separator between them. Yet adding a separator changed other emojis thats already been correctly converted to code which is incorrect"
   ]
  }
 ],
 "metadata": {
  "kernelspec": {
   "display_name": "Python 3",
   "language": "python",
   "name": "python3"
  },
  "language_info": {
   "codemirror_mode": {
    "name": "ipython",
    "version": 3
   },
   "file_extension": ".py",
   "mimetype": "text/x-python",
   "name": "python",
   "nbconvert_exporter": "python",
   "pygments_lexer": "ipython3",
   "version": "3.7.6"
  }
 },
 "nbformat": 4,
 "nbformat_minor": 1
}
